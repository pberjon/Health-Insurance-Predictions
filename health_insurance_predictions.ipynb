{
  "cells": [
    {
      "metadata": {
        "id": "_I7rtYCzphkw"
      },
      "cell_type": "markdown",
      "source": [
        "# Tâche: prédire les propriétaires d'assurance maladie qui seront intéressés par l'assurance automobile\n",
        "\n",
        "Une compagnie d'assurance a fourni une assurance maladie à ses clients. Maintenant, ils veulent un modèle pour prédire si les assurés (clients) de l'année dernière seront également intéressés par l'assurance automobile fournie par l'entreprise.\n",
        "\n",
        "Avant de créer un modèle, explorons l'ensemble de données et obtenons des informations à partir des données. "
      ]
    },
    {
      "metadata": {
        "_uuid": "d629ff2d2480ee46fbb7e2d37f6b5fab8052498a",
        "_cell_guid": "79c7e3d0-c299-4dcb-8224-4455121ee9b0",
        "trusted": true,
        "_kg_hide-input": true,
        "colab": {
          "base_uri": "https://localhost:8080/",
          "height": 282
        },
        "id": "iqNtM3Mlphkz",
        "outputId": "84764b51-89e5-4428-8499-4b46ad88fda6"
      },
      "cell_type": "code",
      "source": [
        "import numpy as np\n",
        "import pandas as pd\n",
        "import matplotlib.pyplot as plt\n",
        "import seaborn as sns\n",
        "from sklearn.model_selection import train_test_split\n",
        "from sklearn.linear_model import LogisticRegression\n",
        "from sklearn.metrics import accuracy_score,roc_auc_score\n",
        "%matplotlib inline\n",
        "\n",
        "train=pd.read_csv('./train.csv')\n",
        "test=pd.read_csv('./test.csv')\n",
        "\n",
        "print(\"First five rows of training dataset are:\")\n",
        "train.head()"
      ],
      "execution_count": 1,
      "outputs": [
        {
          "output_type": "stream",
          "name": "stdout",
          "text": [
            "First five rows of training dataset are:\n"
          ]
        },
        {
          "output_type": "execute_result",
          "data": {
            "text/plain": [
              "   id  Gender  Age  Driving_License  Region_Code  Previously_Insured  \\\n",
              "0   1    Male   44                1         28.0                   0   \n",
              "1   2    Male   76                1          3.0                   0   \n",
              "2   3    Male   47                1         28.0                   0   \n",
              "3   4    Male   21                1         11.0                   1   \n",
              "4   5  Female   29                1         41.0                   1   \n",
              "\n",
              "  Vehicle_Age Vehicle_Damage  Annual_Premium  Policy_Sales_Channel  Vintage  \\\n",
              "0   > 2 Years            Yes         40454.0                  26.0      217   \n",
              "1    1-2 Year             No         33536.0                  26.0      183   \n",
              "2   > 2 Years            Yes         38294.0                  26.0       27   \n",
              "3    < 1 Year             No         28619.0                 152.0      203   \n",
              "4    < 1 Year             No         27496.0                 152.0       39   \n",
              "\n",
              "   Response  \n",
              "0         1  \n",
              "1         0  \n",
              "2         1  \n",
              "3         0  \n",
              "4         0  "
            ],
            "text/html": [
              "\n",
              "  <div id=\"df-a20d0708-4869-4d99-ba26-b12f785509c9\">\n",
              "    <div class=\"colab-df-container\">\n",
              "      <div>\n",
              "<style scoped>\n",
              "    .dataframe tbody tr th:only-of-type {\n",
              "        vertical-align: middle;\n",
              "    }\n",
              "\n",
              "    .dataframe tbody tr th {\n",
              "        vertical-align: top;\n",
              "    }\n",
              "\n",
              "    .dataframe thead th {\n",
              "        text-align: right;\n",
              "    }\n",
              "</style>\n",
              "<table border=\"1\" class=\"dataframe\">\n",
              "  <thead>\n",
              "    <tr style=\"text-align: right;\">\n",
              "      <th></th>\n",
              "      <th>id</th>\n",
              "      <th>Gender</th>\n",
              "      <th>Age</th>\n",
              "      <th>Driving_License</th>\n",
              "      <th>Region_Code</th>\n",
              "      <th>Previously_Insured</th>\n",
              "      <th>Vehicle_Age</th>\n",
              "      <th>Vehicle_Damage</th>\n",
              "      <th>Annual_Premium</th>\n",
              "      <th>Policy_Sales_Channel</th>\n",
              "      <th>Vintage</th>\n",
              "      <th>Response</th>\n",
              "    </tr>\n",
              "  </thead>\n",
              "  <tbody>\n",
              "    <tr>\n",
              "      <th>0</th>\n",
              "      <td>1</td>\n",
              "      <td>Male</td>\n",
              "      <td>44</td>\n",
              "      <td>1</td>\n",
              "      <td>28.0</td>\n",
              "      <td>0</td>\n",
              "      <td>&gt; 2 Years</td>\n",
              "      <td>Yes</td>\n",
              "      <td>40454.0</td>\n",
              "      <td>26.0</td>\n",
              "      <td>217</td>\n",
              "      <td>1</td>\n",
              "    </tr>\n",
              "    <tr>\n",
              "      <th>1</th>\n",
              "      <td>2</td>\n",
              "      <td>Male</td>\n",
              "      <td>76</td>\n",
              "      <td>1</td>\n",
              "      <td>3.0</td>\n",
              "      <td>0</td>\n",
              "      <td>1-2 Year</td>\n",
              "      <td>No</td>\n",
              "      <td>33536.0</td>\n",
              "      <td>26.0</td>\n",
              "      <td>183</td>\n",
              "      <td>0</td>\n",
              "    </tr>\n",
              "    <tr>\n",
              "      <th>2</th>\n",
              "      <td>3</td>\n",
              "      <td>Male</td>\n",
              "      <td>47</td>\n",
              "      <td>1</td>\n",
              "      <td>28.0</td>\n",
              "      <td>0</td>\n",
              "      <td>&gt; 2 Years</td>\n",
              "      <td>Yes</td>\n",
              "      <td>38294.0</td>\n",
              "      <td>26.0</td>\n",
              "      <td>27</td>\n",
              "      <td>1</td>\n",
              "    </tr>\n",
              "    <tr>\n",
              "      <th>3</th>\n",
              "      <td>4</td>\n",
              "      <td>Male</td>\n",
              "      <td>21</td>\n",
              "      <td>1</td>\n",
              "      <td>11.0</td>\n",
              "      <td>1</td>\n",
              "      <td>&lt; 1 Year</td>\n",
              "      <td>No</td>\n",
              "      <td>28619.0</td>\n",
              "      <td>152.0</td>\n",
              "      <td>203</td>\n",
              "      <td>0</td>\n",
              "    </tr>\n",
              "    <tr>\n",
              "      <th>4</th>\n",
              "      <td>5</td>\n",
              "      <td>Female</td>\n",
              "      <td>29</td>\n",
              "      <td>1</td>\n",
              "      <td>41.0</td>\n",
              "      <td>1</td>\n",
              "      <td>&lt; 1 Year</td>\n",
              "      <td>No</td>\n",
              "      <td>27496.0</td>\n",
              "      <td>152.0</td>\n",
              "      <td>39</td>\n",
              "      <td>0</td>\n",
              "    </tr>\n",
              "  </tbody>\n",
              "</table>\n",
              "</div>\n",
              "      <button class=\"colab-df-convert\" onclick=\"convertToInteractive('df-a20d0708-4869-4d99-ba26-b12f785509c9')\"\n",
              "              title=\"Convert this dataframe to an interactive table.\"\n",
              "              style=\"display:none;\">\n",
              "        \n",
              "  <svg xmlns=\"http://www.w3.org/2000/svg\" height=\"24px\"viewBox=\"0 0 24 24\"\n",
              "       width=\"24px\">\n",
              "    <path d=\"M0 0h24v24H0V0z\" fill=\"none\"/>\n",
              "    <path d=\"M18.56 5.44l.94 2.06.94-2.06 2.06-.94-2.06-.94-.94-2.06-.94 2.06-2.06.94zm-11 1L8.5 8.5l.94-2.06 2.06-.94-2.06-.94L8.5 2.5l-.94 2.06-2.06.94zm10 10l.94 2.06.94-2.06 2.06-.94-2.06-.94-.94-2.06-.94 2.06-2.06.94z\"/><path d=\"M17.41 7.96l-1.37-1.37c-.4-.4-.92-.59-1.43-.59-.52 0-1.04.2-1.43.59L10.3 9.45l-7.72 7.72c-.78.78-.78 2.05 0 2.83L4 21.41c.39.39.9.59 1.41.59.51 0 1.02-.2 1.41-.59l7.78-7.78 2.81-2.81c.8-.78.8-2.07 0-2.86zM5.41 20L4 18.59l7.72-7.72 1.47 1.35L5.41 20z\"/>\n",
              "  </svg>\n",
              "      </button>\n",
              "      \n",
              "  <style>\n",
              "    .colab-df-container {\n",
              "      display:flex;\n",
              "      flex-wrap:wrap;\n",
              "      gap: 12px;\n",
              "    }\n",
              "\n",
              "    .colab-df-convert {\n",
              "      background-color: #E8F0FE;\n",
              "      border: none;\n",
              "      border-radius: 50%;\n",
              "      cursor: pointer;\n",
              "      display: none;\n",
              "      fill: #1967D2;\n",
              "      height: 32px;\n",
              "      padding: 0 0 0 0;\n",
              "      width: 32px;\n",
              "    }\n",
              "\n",
              "    .colab-df-convert:hover {\n",
              "      background-color: #E2EBFA;\n",
              "      box-shadow: 0px 1px 2px rgba(60, 64, 67, 0.3), 0px 1px 3px 1px rgba(60, 64, 67, 0.15);\n",
              "      fill: #174EA6;\n",
              "    }\n",
              "\n",
              "    [theme=dark] .colab-df-convert {\n",
              "      background-color: #3B4455;\n",
              "      fill: #D2E3FC;\n",
              "    }\n",
              "\n",
              "    [theme=dark] .colab-df-convert:hover {\n",
              "      background-color: #434B5C;\n",
              "      box-shadow: 0px 1px 3px 1px rgba(0, 0, 0, 0.15);\n",
              "      filter: drop-shadow(0px 1px 2px rgba(0, 0, 0, 0.3));\n",
              "      fill: #FFFFFF;\n",
              "    }\n",
              "  </style>\n",
              "\n",
              "      <script>\n",
              "        const buttonEl =\n",
              "          document.querySelector('#df-a20d0708-4869-4d99-ba26-b12f785509c9 button.colab-df-convert');\n",
              "        buttonEl.style.display =\n",
              "          google.colab.kernel.accessAllowed ? 'block' : 'none';\n",
              "\n",
              "        async function convertToInteractive(key) {\n",
              "          const element = document.querySelector('#df-a20d0708-4869-4d99-ba26-b12f785509c9');\n",
              "          const dataTable =\n",
              "            await google.colab.kernel.invokeFunction('convertToInteractive',\n",
              "                                                     [key], {});\n",
              "          if (!dataTable) return;\n",
              "\n",
              "          const docLinkHtml = 'Like what you see? Visit the ' +\n",
              "            '<a target=\"_blank\" href=https://colab.research.google.com/notebooks/data_table.ipynb>data table notebook</a>'\n",
              "            + ' to learn more about interactive tables.';\n",
              "          element.innerHTML = '';\n",
              "          dataTable['output_type'] = 'display_data';\n",
              "          await google.colab.output.renderOutput(dataTable, element);\n",
              "          const docLink = document.createElement('div');\n",
              "          docLink.innerHTML = docLinkHtml;\n",
              "          element.appendChild(docLink);\n",
              "        }\n",
              "      </script>\n",
              "    </div>\n",
              "  </div>\n",
              "  "
            ]
          },
          "metadata": {},
          "execution_count": 1
        }
      ]
    },
    {
      "metadata": {
        "id": "2qacZu8Zphk0"
      },
      "cell_type": "markdown",
      "source": [
        "On nous donne deux fichiers csv dans cet ensemble de données: train et test. Pour l'EDA, je n'utiliserai que les données d'entraînement.\n",
        "\n",
        "Jetons un coup d'œil aux types de données de différentes colonnes."
      ]
    },
    {
      "metadata": {
        "_kg_hide-input": true,
        "trusted": true,
        "colab": {
          "base_uri": "https://localhost:8080/"
        },
        "id": "ldTRgcqZphk0",
        "outputId": "f79c6cbb-1bdf-442a-a584-789f746c4735"
      },
      "cell_type": "code",
      "source": [
        "train.info()"
      ],
      "execution_count": 2,
      "outputs": [
        {
          "output_type": "stream",
          "name": "stdout",
          "text": [
            "<class 'pandas.core.frame.DataFrame'>\n",
            "RangeIndex: 381109 entries, 0 to 381108\n",
            "Data columns (total 12 columns):\n",
            " #   Column                Non-Null Count   Dtype  \n",
            "---  ------                --------------   -----  \n",
            " 0   id                    381109 non-null  int64  \n",
            " 1   Gender                381109 non-null  object \n",
            " 2   Age                   381109 non-null  int64  \n",
            " 3   Driving_License       381109 non-null  int64  \n",
            " 4   Region_Code           381109 non-null  float64\n",
            " 5   Previously_Insured    381109 non-null  int64  \n",
            " 6   Vehicle_Age           381109 non-null  object \n",
            " 7   Vehicle_Damage        381109 non-null  object \n",
            " 8   Annual_Premium        381109 non-null  float64\n",
            " 9   Policy_Sales_Channel  381109 non-null  float64\n",
            " 10  Vintage               381109 non-null  int64  \n",
            " 11  Response              381109 non-null  int64  \n",
            "dtypes: float64(3), int64(6), object(3)\n",
            "memory usage: 34.9+ MB\n"
          ]
        }
      ]
    },
    {
      "metadata": {
        "_kg_hide-input": true,
        "trusted": true,
        "colab": {
          "base_uri": "https://localhost:8080/"
        },
        "id": "S6L8VMogphk1",
        "outputId": "484094ac-87f6-46e7-e876-665aa6f1a8b3"
      },
      "cell_type": "code",
      "source": [
        "print(f\"Le jeu d'entraînement a {train.shape[0]} observations et {train.shape[1]} variables.\")\n",
        "print(f\"Des données sont manquantes dans le jeu de données: {train.isnull().sum().any()}\")"
      ],
      "execution_count": 3,
      "outputs": [
        {
          "output_type": "stream",
          "name": "stdout",
          "text": [
            "Le jeu d'entraînement a 381109 observations et 12 variables.\n",
            "Des données sont manquantes dans le jeu de données: False\n"
          ]
        }
      ]
    },
    {
      "metadata": {
        "id": "oZHhf0V_phk1"
      },
      "cell_type": "markdown",
      "source": [
        "# EDA\n",
        "\n",
        "Les fonctionnalités Response, Driving_License et Previously_Insured sont déjà encodées dans les données. Pour l'EDA, je les convertis en type d'objet pour une compréhension facile dans les visualisations. "
      ]
    },
    {
      "metadata": {
        "trusted": true,
        "id": "4ovM8nIfphk1"
      },
      "cell_type": "code",
      "source": [
        "train_eda = train.copy()\n",
        "cols=['Driving_License','Previously_Insured','Response']\n",
        "for col in cols:\n",
        "    train_eda[col] = train_eda[col].map({0:'No',1:'Yes'})"
      ],
      "execution_count": 4,
      "outputs": []
    },
    {
      "metadata": {
        "id": "M4JbBKzSphk2"
      },
      "cell_type": "markdown",
      "source": [
        "## Variable cible : Response"
      ]
    },
    {
      "metadata": {
        "_kg_hide-input": true,
        "trusted": true,
        "colab": {
          "base_uri": "https://localhost:8080/",
          "height": 348
        },
        "id": "LGUEoRyjphk2",
        "outputId": "93bb1bbb-47c8-4506-fa86-c3bf70d3dd1a"
      },
      "cell_type": "code",
      "source": [
        "sns.countplot(train_eda['Response'],palette='rocket')\n",
        "plt.title(\"Target variable Distribution in data\");"
      ],
      "execution_count": 5,
      "outputs": [
        {
          "output_type": "stream",
          "name": "stderr",
          "text": [
            "/usr/local/lib/python3.7/dist-packages/seaborn/_decorators.py:43: FutureWarning: Pass the following variable as a keyword arg: x. From version 0.12, the only valid positional argument will be `data`, and passing other arguments without an explicit keyword will result in an error or misinterpretation.\n",
            "  FutureWarning\n"
          ]
        },
        {
          "output_type": "display_data",
          "data": {
            "text/plain": [
              "<Figure size 432x288 with 1 Axes>"
            ],
            "image/png": "[encoded data removed]"
          },
          "metadata": {
            "needs_background": "light"
          }
        }
      ]
    },
    {
      "metadata": {
        "id": "a8Z36oydphk2"
      },
      "cell_type": "markdown",
      "source": [
        "On voit ici que nos données sont très déséquilibrées.\n",
        "\n",
        "## Genre"
      ]
    },
    {
      "metadata": {
        "_kg_hide-input": true,
        "trusted": true,
        "colab": {
          "base_uri": "https://localhost:8080/",
          "height": 348
        },
        "id": "7Kynxa2iphk3",
        "outputId": "13615e1f-61a2-4985-d637-5f68c94fb7c0"
      },
      "cell_type": "code",
      "source": [
        "sns.countplot(train_eda['Gender'],palette='summer')\n",
        "plt.title(\"Gender Distribution in data\");"
      ],
      "execution_count": 6,
      "outputs": [
        {
          "output_type": "stream",
          "name": "stderr",
          "text": [
            "/usr/local/lib/python3.7/dist-packages/seaborn/_decorators.py:43: FutureWarning: Pass the following variable as a keyword arg: x. From version 0.12, the only valid positional argument will be `data`, and passing other arguments without an explicit keyword will result in an error or misinterpretation.\n",
            "  FutureWarning\n"
          ]
        },
        {
          "output_type": "display_data",
          "data": {
            "text/plain": [
              "<Figure size 432x288 with 1 Axes>"
            ],
            "image/png": "[encoded data removed]"
          },
          "metadata": {
            "needs_background": "light"
          }
        }
      ]
    },
    {
      "metadata": {
        "id": "ZyiFCi7qphk3"
      },
      "cell_type": "markdown",
      "source": [
        "* On a plus d'échantillons pour le genre mâle.\n",
        "* Il semblerait donc que les hommes soient davantage concernés par des problèmes de santé que les femmes (cette information ne permet pas d'en être certains, il faudrait peut-être un dataset plus complet pour en être sûr).\n",
        "\n",
        "## Age"
      ]
    },
    {
      "metadata": {
        "_kg_hide-input": true,
        "trusted": true,
        "colab": {
          "base_uri": "https://localhost:8080/",
          "height": 220
        },
        "id": "7QslbOudphk3",
        "outputId": "509c7ea1-ec3d-47d7-c743-46cabbbf0f18"
      },
      "cell_type": "code",
      "source": [
        "print(\"Age distribution according to Response\")\n",
        "facetgrid = sns.FacetGrid(train_eda,hue=\"Response\",aspect = 4)\n",
        "facetgrid.map(sns.kdeplot,\"Age\",shade = True)\n",
        "facetgrid.set(xlim = (0,train_eda[\"Age\"].max()))\n",
        "facetgrid.add_legend();"
      ],
      "execution_count": 7,
      "outputs": [
        {
          "output_type": "stream",
          "name": "stdout",
          "text": [
            "Age distribution according to Response\n"
          ]
        },
        {
          "output_type": "display_data",
          "data": {
            "text/plain": [
              "<Figure size 919.75x216 with 1 Axes>"
            ],
            "image/png": "[encoded data removed]"
          },
          "metadata": {
            "needs_background": "light"
          }
        }
      ]
    },
    {
      "metadata": {
        "id": "5iS8CzDpphk4"
      },
      "cell_type": "markdown",
      "source": [
        "* Les jeunes, de moins de 30 ans ne sont pas intéressés par une assurance pour leur véhicule. Les principales raisons pourraient être le manque d'expérience, de maturité et le fait qu'ils ne possèdent pas encore de véhicules à coût important.\n",
        "* Des personnes entre 30 et 60 ans semblent être davantage intéressées.\n",
        "\n",
        "## Permis de conduire"
      ]
    },
    {
      "metadata": {
        "trusted": true,
        "colab": {
          "base_uri": "https://localhost:8080/",
          "height": 160
        },
        "id": "gKvtbO03phk4",
        "outputId": "538bf597-04f1-4bea-ea7d-e116f0765a3c"
      },
      "cell_type": "code",
      "source": [
        "pd.crosstab(train_eda['Response'], train_eda['Driving_License'])"
      ],
      "execution_count": 8,
      "outputs": [
        {
          "output_type": "execute_result",
          "data": {
            "text/plain": [
              "Driving_License   No     Yes\n",
              "Response                    \n",
              "No               771  333628\n",
              "Yes               41   46669"
            ],
            "text/html": [
              "\n",
              "  <div id=\"df-f6ec9995-a8e7-48d3-8992-107f424aa9e6\">\n",
              "    <div class=\"colab-df-container\">\n",
              "      <div>\n",
              "<style scoped>\n",
              "    .dataframe tbody tr th:only-of-type {\n",
              "        vertical-align: middle;\n",
              "    }\n",
              "\n",
              "    .dataframe tbody tr th {\n",
              "        vertical-align: top;\n",
              "    }\n",
              "\n",
              "    .dataframe thead th {\n",
              "        text-align: right;\n",
              "    }\n",
              "</style>\n",
              "<table border=\"1\" class=\"dataframe\">\n",
              "  <thead>\n",
              "    <tr style=\"text-align: right;\">\n",
              "      <th>Driving_License</th>\n",
              "      <th>No</th>\n",
              "      <th>Yes</th>\n",
              "    </tr>\n",
              "    <tr>\n",
              "      <th>Response</th>\n",
              "      <th></th>\n",
              "      <th></th>\n",
              "    </tr>\n",
              "  </thead>\n",
              "  <tbody>\n",
              "    <tr>\n",
              "      <th>No</th>\n",
              "      <td>771</td>\n",
              "      <td>333628</td>\n",
              "    </tr>\n",
              "    <tr>\n",
              "      <th>Yes</th>\n",
              "      <td>41</td>\n",
              "      <td>46669</td>\n",
              "    </tr>\n",
              "  </tbody>\n",
              "</table>\n",
              "</div>\n",
              "      <button class=\"colab-df-convert\" onclick=\"convertToInteractive('df-f6ec9995-a8e7-48d3-8992-107f424aa9e6')\"\n",
              "              title=\"Convert this dataframe to an interactive table.\"\n",
              "              style=\"display:none;\">\n",
              "        \n",
              "  <svg xmlns=\"http://www.w3.org/2000/svg\" height=\"24px\"viewBox=\"0 0 24 24\"\n",
              "       width=\"24px\">\n",
              "    <path d=\"M0 0h24v24H0V0z\" fill=\"none\"/>\n",
              "    <path d=\"M18.56 5.44l.94 2.06.94-2.06 2.06-.94-2.06-.94-.94-2.06-.94 2.06-2.06.94zm-11 1L8.5 8.5l.94-2.06 2.06-.94-2.06-.94L8.5 2.5l-.94 2.06-2.06.94zm10 10l.94 2.06.94-2.06 2.06-.94-2.06-.94-.94-2.06-.94 2.06-2.06.94z\"/><path d=\"M17.41 7.96l-1.37-1.37c-.4-.4-.92-.59-1.43-.59-.52 0-1.04.2-1.43.59L10.3 9.45l-7.72 7.72c-.78.78-.78 2.05 0 2.83L4 21.41c.39.39.9.59 1.41.59.51 0 1.02-.2 1.41-.59l7.78-7.78 2.81-2.81c.8-.78.8-2.07 0-2.86zM5.41 20L4 18.59l7.72-7.72 1.47 1.35L5.41 20z\"/>\n",
              "  </svg>\n",
              "      </button>\n",
              "      \n",
              "  <style>\n",
              "    .colab-df-container {\n",
              "      display:flex;\n",
              "      flex-wrap:wrap;\n",
              "      gap: 12px;\n",
              "    }\n",
              "\n",
              "    .colab-df-convert {\n",
              "      background-color: #E8F0FE;\n",
              "      border: none;\n",
              "      border-radius: 50%;\n",
              "      cursor: pointer;\n",
              "      display: none;\n",
              "      fill: #1967D2;\n",
              "      height: 32px;\n",
              "      padding: 0 0 0 0;\n",
              "      width: 32px;\n",
              "    }\n",
              "\n",
              "    .colab-df-convert:hover {\n",
              "      background-color: #E2EBFA;\n",
              "      box-shadow: 0px 1px 2px rgba(60, 64, 67, 0.3), 0px 1px 3px 1px rgba(60, 64, 67, 0.15);\n",
              "      fill: #174EA6;\n",
              "    }\n",
              "\n",
              "    [theme=dark] .colab-df-convert {\n",
              "      background-color: #3B4455;\n",
              "      fill: #D2E3FC;\n",
              "    }\n",
              "\n",
              "    [theme=dark] .colab-df-convert:hover {\n",
              "      background-color: #434B5C;\n",
              "      box-shadow: 0px 1px 3px 1px rgba(0, 0, 0, 0.15);\n",
              "      filter: drop-shadow(0px 1px 2px rgba(0, 0, 0, 0.3));\n",
              "      fill: #FFFFFF;\n",
              "    }\n",
              "  </style>\n",
              "\n",
              "      <script>\n",
              "        const buttonEl =\n",
              "          document.querySelector('#df-f6ec9995-a8e7-48d3-8992-107f424aa9e6 button.colab-df-convert');\n",
              "        buttonEl.style.display =\n",
              "          google.colab.kernel.accessAllowed ? 'block' : 'none';\n",
              "\n",
              "        async function convertToInteractive(key) {\n",
              "          const element = document.querySelector('#df-f6ec9995-a8e7-48d3-8992-107f424aa9e6');\n",
              "          const dataTable =\n",
              "            await google.colab.kernel.invokeFunction('convertToInteractive',\n",
              "                                                     [key], {});\n",
              "          if (!dataTable) return;\n",
              "\n",
              "          const docLinkHtml = 'Like what you see? Visit the ' +\n",
              "            '<a target=\"_blank\" href=https://colab.research.google.com/notebooks/data_table.ipynb>data table notebook</a>'\n",
              "            + ' to learn more about interactive tables.';\n",
              "          element.innerHTML = '';\n",
              "          dataTable['output_type'] = 'display_data';\n",
              "          await google.colab.output.renderOutput(dataTable, element);\n",
              "          const docLink = document.createElement('div');\n",
              "          docLink.innerHTML = docLinkHtml;\n",
              "          element.appendChild(docLink);\n",
              "        }\n",
              "      </script>\n",
              "    </div>\n",
              "  </div>\n",
              "  "
            ]
          },
          "metadata": {},
          "execution_count": 8
        }
      ]
    },
    {
      "metadata": {
        "id": "qnt8AObJphk4"
      },
      "cell_type": "markdown",
      "source": [
        "> ***Vous devriez toujours avoir un permis de conduire en conduisant***\n",
        "\n",
        "* Ici aussi les observations majoritaires concernent des personnes possédant un permis de conduire.\n",
        "\n",
        "\n",
        "## Distribution par région"
      ]
    },
    {
      "metadata": {
        "trusted": true,
        "colab": {
          "base_uri": "https://localhost:8080/",
          "height": 613
        },
        "id": "mCy7VPB-phk4",
        "outputId": "1145a412-1d23-44e8-af79-6abd32373bcd"
      },
      "cell_type": "code",
      "source": [
        "train_eda['Region_Code'].value_counts().plot(kind='barh',cmap='Accent',figsize=(12,10));"
      ],
      "execution_count": 9,
      "outputs": [
        {
          "output_type": "display_data",
          "data": {
            "text/plain": [
              "<Figure size 864x720 with 1 Axes>"
            ],
            "image/png": "[encoded data removed]"
          },
          "metadata": {
            "needs_background": "light"
          }
        }
      ]
    },
    {
      "metadata": {
        "id": "11M1A4nqphk5"
      },
      "cell_type": "markdown",
      "source": [
        "* La signification de ces codes n'a pas été fournie.\n",
        "* La plupart des données sont collectées auprès de personnes vivant dans la région avec le code 28​.\n",
        "\n",
        "## Précédemment assuré "
      ]
    },
    {
      "metadata": {
        "_kg_hide-input": true,
        "trusted": true,
        "colab": {
          "base_uri": "https://localhost:8080/",
          "height": 160
        },
        "id": "pb0JuqlEphk5",
        "outputId": "ec06bb0d-26df-4243-bfcd-09fb3f477925"
      },
      "cell_type": "code",
      "source": [
        "pd.crosstab(train_eda['Response'], train_eda['Previously_Insured'])"
      ],
      "execution_count": 10,
      "outputs": [
        {
          "output_type": "execute_result",
          "data": {
            "text/plain": [
              "Previously_Insured      No     Yes\n",
              "Response                          \n",
              "No                  159929  174470\n",
              "Yes                  46552     158"
            ],
            "text/html": [
              "\n",
              "  <div id=\"df-ded595d8-b1ab-4602-aa70-609eb1f02baf\">\n",
              "    <div class=\"colab-df-container\">\n",
              "      <div>\n",
              "<style scoped>\n",
              "    .dataframe tbody tr th:only-of-type {\n",
              "        vertical-align: middle;\n",
              "    }\n",
              "\n",
              "    .dataframe tbody tr th {\n",
              "        vertical-align: top;\n",
              "    }\n",
              "\n",
              "    .dataframe thead th {\n",
              "        text-align: right;\n",
              "    }\n",
              "</style>\n",
              "<table border=\"1\" class=\"dataframe\">\n",
              "  <thead>\n",
              "    <tr style=\"text-align: right;\">\n",
              "      <th>Previously_Insured</th>\n",
              "      <th>No</th>\n",
              "      <th>Yes</th>\n",
              "    </tr>\n",
              "    <tr>\n",
              "      <th>Response</th>\n",
              "      <th></th>\n",
              "      <th></th>\n",
              "    </tr>\n",
              "  </thead>\n",
              "  <tbody>\n",
              "    <tr>\n",
              "      <th>No</th>\n",
              "      <td>159929</td>\n",
              "      <td>174470</td>\n",
              "    </tr>\n",
              "    <tr>\n",
              "      <th>Yes</th>\n",
              "      <td>46552</td>\n",
              "      <td>158</td>\n",
              "    </tr>\n",
              "  </tbody>\n",
              "</table>\n",
              "</div>\n",
              "      <button class=\"colab-df-convert\" onclick=\"convertToInteractive('df-ded595d8-b1ab-4602-aa70-609eb1f02baf')\"\n",
              "              title=\"Convert this dataframe to an interactive table.\"\n",
              "              style=\"display:none;\">\n",
              "        \n",
              "  <svg xmlns=\"http://www.w3.org/2000/svg\" height=\"24px\"viewBox=\"0 0 24 24\"\n",
              "       width=\"24px\">\n",
              "    <path d=\"M0 0h24v24H0V0z\" fill=\"none\"/>\n",
              "    <path d=\"M18.56 5.44l.94 2.06.94-2.06 2.06-.94-2.06-.94-.94-2.06-.94 2.06-2.06.94zm-11 1L8.5 8.5l.94-2.06 2.06-.94-2.06-.94L8.5 2.5l-.94 2.06-2.06.94zm10 10l.94 2.06.94-2.06 2.06-.94-2.06-.94-.94-2.06-.94 2.06-2.06.94z\"/><path d=\"M17.41 7.96l-1.37-1.37c-.4-.4-.92-.59-1.43-.59-.52 0-1.04.2-1.43.59L10.3 9.45l-7.72 7.72c-.78.78-.78 2.05 0 2.83L4 21.41c.39.39.9.59 1.41.59.51 0 1.02-.2 1.41-.59l7.78-7.78 2.81-2.81c.8-.78.8-2.07 0-2.86zM5.41 20L4 18.59l7.72-7.72 1.47 1.35L5.41 20z\"/>\n",
              "  </svg>\n",
              "      </button>\n",
              "      \n",
              "  <style>\n",
              "    .colab-df-container {\n",
              "      display:flex;\n",
              "      flex-wrap:wrap;\n",
              "      gap: 12px;\n",
              "    }\n",
              "\n",
              "    .colab-df-convert {\n",
              "      background-color: #E8F0FE;\n",
              "      border: none;\n",
              "      border-radius: 50%;\n",
              "      cursor: pointer;\n",
              "      display: none;\n",
              "      fill: #1967D2;\n",
              "      height: 32px;\n",
              "      padding: 0 0 0 0;\n",
              "      width: 32px;\n",
              "    }\n",
              "\n",
              "    .colab-df-convert:hover {\n",
              "      background-color: #E2EBFA;\n",
              "      box-shadow: 0px 1px 2px rgba(60, 64, 67, 0.3), 0px 1px 3px 1px rgba(60, 64, 67, 0.15);\n",
              "      fill: #174EA6;\n",
              "    }\n",
              "\n",
              "    [theme=dark] .colab-df-convert {\n",
              "      background-color: #3B4455;\n",
              "      fill: #D2E3FC;\n",
              "    }\n",
              "\n",
              "    [theme=dark] .colab-df-convert:hover {\n",
              "      background-color: #434B5C;\n",
              "      box-shadow: 0px 1px 3px 1px rgba(0, 0, 0, 0.15);\n",
              "      filter: drop-shadow(0px 1px 2px rgba(0, 0, 0, 0.3));\n",
              "      fill: #FFFFFF;\n",
              "    }\n",
              "  </style>\n",
              "\n",
              "      <script>\n",
              "        const buttonEl =\n",
              "          document.querySelector('#df-ded595d8-b1ab-4602-aa70-609eb1f02baf button.colab-df-convert');\n",
              "        buttonEl.style.display =\n",
              "          google.colab.kernel.accessAllowed ? 'block' : 'none';\n",
              "\n",
              "        async function convertToInteractive(key) {\n",
              "          const element = document.querySelector('#df-ded595d8-b1ab-4602-aa70-609eb1f02baf');\n",
              "          const dataTable =\n",
              "            await google.colab.kernel.invokeFunction('convertToInteractive',\n",
              "                                                     [key], {});\n",
              "          if (!dataTable) return;\n",
              "\n",
              "          const docLinkHtml = 'Like what you see? Visit the ' +\n",
              "            '<a target=\"_blank\" href=https://colab.research.google.com/notebooks/data_table.ipynb>data table notebook</a>'\n",
              "            + ' to learn more about interactive tables.';\n",
              "          element.innerHTML = '';\n",
              "          dataTable['output_type'] = 'display_data';\n",
              "          await google.colab.output.renderOutput(dataTable, element);\n",
              "          const docLink = document.createElement('div');\n",
              "          docLink.innerHTML = docLinkHtml;\n",
              "          element.appendChild(docLink);\n",
              "        }\n",
              "      </script>\n",
              "    </div>\n",
              "  </div>\n",
              "  "
            ]
          },
          "metadata": {},
          "execution_count": 10
        }
      ]
    },
    {
      "metadata": {
        "_kg_hide-input": true,
        "trusted": true,
        "colab": {
          "base_uri": "https://localhost:8080/",
          "height": 306
        },
        "id": "pdkukhrEphk5",
        "outputId": "702e99a9-413d-4ad7-e0b4-84e73933a656"
      },
      "cell_type": "code",
      "source": [
        "pd.crosstab(train_eda['Response'], train_eda['Previously_Insured']).plot(kind='bar');"
      ],
      "execution_count": 11,
      "outputs": [
        {
          "output_type": "display_data",
          "data": {
            "text/plain": [
              "<Figure size 432x288 with 1 Axes>"
            ],
            "image/png": "[encoded data removed]"
          },
          "metadata": {
            "needs_background": "light"
          }
        }
      ]
    },
    {
      "metadata": {
        "id": "NgFjs_rPphk5"
      },
      "cell_type": "markdown",
      "source": [
        "* Ceux qui ont déjà une assurance ne sont pas intéressés. C'est un résultat plutôt évident.\n",
        "\n",
        "\n",
        "## Age du véhicule"
      ]
    },
    {
      "metadata": {
        "_kg_hide-input": true,
        "trusted": true,
        "colab": {
          "base_uri": "https://localhost:8080/",
          "height": 386
        },
        "id": "RqVSjNXMphk6",
        "outputId": "7cbad61b-ee9f-41a1-f544-22d34aaeb6f6"
      },
      "cell_type": "code",
      "source": [
        "plt.rcParams['figure.figsize']=(6,8)\n",
        "color = ['yellowgreen','gold',\"lightskyblue\"]\n",
        "train_eda['Vehicle_Age'].value_counts().plot.pie(y=\"Vehicle_Age\",colors=color,explode=(0.02,0,0.3),startangle=50,shadow=True,autopct=\"%0.1f%%\")\n",
        "plt.axis('on');"
      ],
      "execution_count": 12,
      "outputs": [
        {
          "output_type": "display_data",
          "data": {
            "text/plain": [
              "<Figure size 432x576 with 1 Axes>"
            ],
            "image/png": "[encoded data removed]"
          },
          "metadata": {}
        }
      ]
    },
    {
      "metadata": {
        "_kg_hide-input": true,
        "trusted": true,
        "colab": {
          "base_uri": "https://localhost:8080/",
          "height": 552
        },
        "id": "OYJ0g61Sphk6",
        "outputId": "71c3c097-b63e-4b8c-d221-7fbbab33a3e6"
      },
      "cell_type": "code",
      "source": [
        "sns.countplot(train_eda['Vehicle_Age'],hue=train_eda['Response'],palette='autumn');"
      ],
      "execution_count": 13,
      "outputs": [
        {
          "output_type": "stream",
          "name": "stderr",
          "text": [
            "/usr/local/lib/python3.7/dist-packages/seaborn/_decorators.py:43: FutureWarning: Pass the following variable as a keyword arg: x. From version 0.12, the only valid positional argument will be `data`, and passing other arguments without an explicit keyword will result in an error or misinterpretation.\n",
            "  FutureWarning\n"
          ]
        },
        {
          "output_type": "display_data",
          "data": {
            "text/plain": [
              "<Figure size 432x576 with 1 Axes>"
            ],
            "image/png": "[encoded data removed]"
          },
          "metadata": {
            "needs_background": "light"
          }
        }
      ]
    },
    {
      "metadata": {
        "id": "dK8mlZbephk6"
      },
      "cell_type": "markdown",
      "source": [
        "* Plus de la moitié des données (52%) concernent des échantillons dont l'âge du véhicule est compris entre 1 et 2 ans.\n",
        "* Nous ne pouvons pas dire à partir du deuxième graphique que les personnes dont l'âge du véhicule est compris entre 1 et 2 ans sont plus intéressées car l'autre catégorie «> 2 ans» a très peu d'observations.\n",
        "\n",
        "\n",
        "## Dommages au véhicule "
      ]
    },
    {
      "metadata": {
        "_kg_hide-input": true,
        "trusted": true,
        "colab": {
          "base_uri": "https://localhost:8080/",
          "height": 523
        },
        "id": "yUgoMTd3phk6",
        "outputId": "18553deb-ab60-462a-f170-e49f964ec96e"
      },
      "cell_type": "code",
      "source": [
        "pd.crosstab(train_eda['Response'], train_eda['Vehicle_Damage']).plot(kind='bar');"
      ],
      "execution_count": 14,
      "outputs": [
        {
          "output_type": "display_data",
          "data": {
            "text/plain": [
              "<Figure size 432x576 with 1 Axes>"
            ],
            "image/png": "[encoded data removed]"
          },
          "metadata": {
            "needs_background": "light"
          }
        }
      ]
    },
    {
      "metadata": {
        "id": "vuy3zfXSphk7"
      },
      "cell_type": "markdown",
      "source": [
        "* Les clients dont le véhicule a été endommagé dans le passé sont plus susceptibles d'être intéressés par une assurance. Peut-être parce qu'il a une expérience directe de ses avantages et inconvénients.\n",
        "* Ah ! Je veux une version de \"Mieux vaut prévenir que guérir\" pour cette situation.\n",
        "\n",
        "## Annual Premium"
      ]
    },
    {
      "metadata": {
        "_kg_hide-input": true,
        "trusted": true,
        "colab": {
          "base_uri": "https://localhost:8080/",
          "height": 220
        },
        "id": "w8ePGsR3phk7",
        "outputId": "98c465b5-6220-4c2f-865b-8aba3f6d7e41"
      },
      "cell_type": "code",
      "source": [
        "print(\"Annual Premium distribution according to Response\")\n",
        "facetgrid = sns.FacetGrid(train_eda,hue=\"Response\",aspect = 4)\n",
        "facetgrid.map(sns.kdeplot,\"Annual_Premium\",shade = True)\n",
        "facetgrid.set(xlim = (0,train_eda[\"Annual_Premium\"].max()))\n",
        "facetgrid.add_legend();"
      ],
      "execution_count": 15,
      "outputs": [
        {
          "output_type": "stream",
          "name": "stdout",
          "text": [
            "Annual Premium distribution according to Response\n"
          ]
        },
        {
          "output_type": "display_data",
          "data": {
            "text/plain": [
              "<Figure size 919.75x216 with 1 Axes>"
            ],
            "image/png": "[encoded data removed]"
          },
          "metadata": {
            "needs_background": "light"
          }
        }
      ]
    },
    {
      "metadata": {
        "id": "CHhawIBZphk7"
      },
      "cell_type": "markdown",
      "source": [
        "* Je ne pense pas que cela donne beaucoup d'informations supplémentaires.\n",
        "* Des valeurs aberrantes peuvent être présentes ici.\n",
        "\n",
        "## PolicySalesChannel"
      ]
    },
    {
      "metadata": {
        "_kg_hide-input": true,
        "trusted": true,
        "colab": {
          "base_uri": "https://localhost:8080/",
          "height": 220
        },
        "id": "pN3VFMxZphk7",
        "outputId": "3c4f8694-c649-446d-8ed4-d8127c295c57"
      },
      "cell_type": "code",
      "source": [
        "print(\"Policy_Sales_Channel distribution according to Response\")\n",
        "facetgrid = sns.FacetGrid(train_eda,hue=\"Response\",aspect = 4)\n",
        "facetgrid.map(sns.kdeplot,\"Policy_Sales_Channel\",shade = True)\n",
        "facetgrid.set(xlim = (0,train_eda[\"Policy_Sales_Channel\"].max()))\n",
        "facetgrid.add_legend();"
      ],
      "execution_count": 16,
      "outputs": [
        {
          "output_type": "stream",
          "name": "stdout",
          "text": [
            "Policy_Sales_Channel distribution according to Response\n"
          ]
        },
        {
          "output_type": "display_data",
          "data": {
            "text/plain": [
              "<Figure size 919.75x216 with 1 Axes>"
            ],
            "image/png": "[encoded data removed]"
          },
          "metadata": {
            "needs_background": "light"
          }
        }
      ]
    },
    {
      "metadata": {
        "id": "bZAiqRJnphk8"
      },
      "cell_type": "markdown",
      "source": [
        "* Ce graphique semble intéressant. Mais pour extraire clairement des informations, nous avons besoin de la signification de ces codes.\n",
        "\n",
        "## Vintage\n",
        "\n",
        "Number of Days, Customer a été associé à l'entreprise"
      ]
    },
    {
      "metadata": {
        "_kg_hide-input": true,
        "trusted": true,
        "colab": {
          "base_uri": "https://localhost:8080/",
          "height": 220
        },
        "id": "Sg8Ba-hfphk8",
        "outputId": "159a4189-376c-4b9a-c9d9-59ae36ffe1bc"
      },
      "cell_type": "code",
      "source": [
        "print(\"Vintage feature according to Response\")\n",
        "facetgrid = sns.FacetGrid(train_eda,hue=\"Response\",aspect = 4)\n",
        "facetgrid.map(sns.kdeplot,\"Vintage\",shade = True)\n",
        "facetgrid.set(xlim = (0,train_eda[\"Vintage\"].max()))\n",
        "facetgrid.add_legend();"
      ],
      "execution_count": 17,
      "outputs": [
        {
          "output_type": "stream",
          "name": "stdout",
          "text": [
            "Vintage feature according to Response\n"
          ]
        },
        {
          "output_type": "display_data",
          "data": {
            "text/plain": [
              "<Figure size 919.75x216 with 1 Axes>"
            ],
            "image/png": "[encoded data removed]"
          },
          "metadata": {
            "needs_background": "light"
          }
        }
      ]
    },
    {
      "metadata": {
        "id": "jypGoNZlphk8"
      },
      "cell_type": "markdown",
      "source": [
        "* Notre variable cible n'est pas très affectée par cette feature. Elle peut être abandonnée."
      ]
    },
    {
      "metadata": {
        "trusted": true,
        "_kg_hide-input": true,
        "colab": {
          "base_uri": "https://localhost:8080/",
          "height": 512
        },
        "id": "V9iyAXTvphk8",
        "outputId": "d9aff58e-a25e-4fb0-a491-62a8184466e7"
      },
      "cell_type": "code",
      "source": [
        "print(\"Correlation matrix-\")\n",
        "plt.rcParams['figure.figsize']=(8,6)\n",
        "sns.heatmap(train.corr(),cmap='Spectral');"
      ],
      "execution_count": 18,
      "outputs": [
        {
          "output_type": "stream",
          "name": "stdout",
          "text": [
            "Correlation matrix-\n"
          ]
        },
        {
          "output_type": "display_data",
          "data": {
            "text/plain": [
              "<Figure size 576x432 with 2 Axes>"
            ],
            "image/png": "[encoded data removed]"
          },
          "metadata": {
            "needs_background": "light"
          }
        }
      ]
    },
    {
      "metadata": {
        "_kg_hide-input": true,
        "trusted": true,
        "colab": {
          "base_uri": "https://localhost:8080/"
        },
        "id": "Xx0RHAxephk8",
        "outputId": "2c3210e3-8164-4707-e09b-86618db6f69a"
      },
      "cell_type": "code",
      "source": [
        "train.corr()[:-1]['Response'].sort_values().round(2)"
      ],
      "execution_count": 19,
      "outputs": [
        {
          "output_type": "execute_result",
          "data": {
            "text/plain": [
              "Previously_Insured     -0.34\n",
              "Policy_Sales_Channel   -0.14\n",
              "id                     -0.00\n",
              "Vintage                -0.00\n",
              "Driving_License         0.01\n",
              "Region_Code             0.01\n",
              "Annual_Premium          0.02\n",
              "Age                     0.11\n",
              "Name: Response, dtype: float64"
            ]
          },
          "metadata": {},
          "execution_count": 19
        }
      ]
    },
    {
      "metadata": {
        "id": "5plu5k5Ophk9"
      },
      "cell_type": "markdown",
      "source": [
        "Je supprimerai les features les moins corrélées pour la modélisation.\n",
        "\n",
        "# Création d'un modèle de classification"
      ]
    },
    {
      "metadata": {
        "trusted": true,
        "colab": {
          "base_uri": "https://localhost:8080/"
        },
        "id": "rGJB_nTrphk9",
        "outputId": "689742eb-6ddd-43e4-9f62-ba44b664c8e8"
      },
      "cell_type": "code",
      "source": [
        "#creating a checkpoint\n",
        "df4model = train.copy()\n",
        "#dropping Vintage column as suggested by EDA\n",
        "df4model.drop(['id','Vintage'],axis=1,inplace=True)\n",
        "#checking target variable\n",
        "df4model.Response.value_counts()"
      ],
      "execution_count": 20,
      "outputs": [
        {
          "output_type": "execute_result",
          "data": {
            "text/plain": [
              "0    334399\n",
              "1     46710\n",
              "Name: Response, dtype: int64"
            ]
          },
          "metadata": {},
          "execution_count": 20
        }
      ]
    },
    {
      "metadata": {
        "id": "ls0ANrRsphk9"
      },
      "cell_type": "markdown",
      "source": [
        "Pour équilibrer ces données, nous allons suréchantillonner la classe minoritaire en utilisant le rééchantillonnage de la bibliothèque sklearn.\n",
        "\n",
        "Pour éviter les fuites de données, je vais d'abord diviser en sous-ensembles d'entraînement et de test, puis suréchantillonner."
      ]
    },
    {
      "metadata": {
        "trusted": true,
        "id": "uC6EcnN6phk9"
      },
      "cell_type": "code",
      "source": [
        "X_train, X_test, y_train, y_test = train_test_split(df4model.drop(['Response'], axis = 1), \n",
        "                                                    df4model['Response'], test_size = 0.2)"
      ],
      "execution_count": 21,
      "outputs": []
    },
    {
      "metadata": {
        "trusted": true,
        "colab": {
          "base_uri": "https://localhost:8080/"
        },
        "id": "S8B_L1D6phk9",
        "outputId": "c845dbd0-4c18-477f-960c-075e0e74dbf9"
      },
      "cell_type": "code",
      "source": [
        "print(f\"Target variable disribution in train set: \\n{y_train.value_counts()}\\n\\nand in test set: \\n{y_test.value_counts()}\")"
      ],
      "execution_count": 22,
      "outputs": [
        {
          "output_type": "stream",
          "name": "stdout",
          "text": [
            "Target variable disribution in train set: \n",
            "0    267502\n",
            "1     37385\n",
            "Name: Response, dtype: int64\n",
            "\n",
            "and in test set: \n",
            "0    66897\n",
            "1     9325\n",
            "Name: Response, dtype: int64\n"
          ]
        }
      ]
    },
    {
      "metadata": {
        "id": "usiKIIiDphk-"
      },
      "cell_type": "markdown",
      "source": [
        "## Suréchantillonnage"
      ]
    },
    {
      "metadata": {
        "trusted": true,
        "colab": {
          "base_uri": "https://localhost:8080/"
        },
        "id": "o4rL-No9phk-",
        "outputId": "6f99a8e7-3050-4899-a9fb-d219fa402b76"
      },
      "cell_type": "code",
      "source": [
        "#combining train features and target\n",
        "df = pd.concat([X_train,y_train],axis=1)\n",
        "\n",
        "from sklearn.utils import resample,shuffle\n",
        "df_majority = df[df['Response']==0]\n",
        "df_minority = df[df['Response']==1]\n",
        "df_minority_upsampled = resample(df_minority,replace=True,n_samples=y_train.value_counts()[0],random_state = 123)\n",
        "balanced_df = pd.concat([df_minority_upsampled,df_majority])\n",
        "balanced_df = shuffle(balanced_df)\n",
        "balanced_df.Response.value_counts()"
      ],
      "execution_count": 23,
      "outputs": [
        {
          "output_type": "execute_result",
          "data": {
            "text/plain": [
              "0    267502\n",
              "1    267502\n",
              "Name: Response, dtype: int64"
            ]
          },
          "metadata": {},
          "execution_count": 23
        }
      ]
    },
    {
      "metadata": {
        "id": "url6RBazphk-"
      },
      "cell_type": "markdown",
      "source": [
        "Maintenant, je vais convertir les colonnes catégorielles en colonnes numériques."
      ]
    },
    {
      "metadata": {
        "trusted": true,
        "colab": {
          "base_uri": "https://localhost:8080/",
          "height": 282
        },
        "id": "atHV23RUphk-",
        "outputId": "cc199684-0a8f-40d8-847f-5a0503c25bb2"
      },
      "cell_type": "code",
      "source": [
        "from sklearn.preprocessing import OrdinalEncoder\n",
        "encoder= OrdinalEncoder()\n",
        "cat_cols=['Gender','Vehicle_Damage']\n",
        "balanced_df[cat_cols] = encoder.fit_transform(balanced_df[cat_cols])\n",
        "X_test[cat_cols] = encoder.transform(X_test[cat_cols])\n",
        "\n",
        "dummy = pd.get_dummies(balanced_df['Vehicle_Age'],drop_first=True)\n",
        "features = pd.concat([dummy,balanced_df],axis=1)\n",
        "features.drop('Vehicle_Age',axis=1,inplace=True)\n",
        "\n",
        "features.head()"
      ],
      "execution_count": 24,
      "outputs": [
        {
          "output_type": "execute_result",
          "data": {
            "text/plain": [
              "        < 1 Year  > 2 Years  Gender  Age  Driving_License  Region_Code  \\\n",
              "3781           0          0     1.0   46                1         28.0   \n",
              "227054         0          0     1.0   23                1         28.0   \n",
              "186251         0          0     1.0   34                1         11.0   \n",
              "290780         0          0     1.0   41                1         34.0   \n",
              "151564         0          0     1.0   54                1         41.0   \n",
              "\n",
              "        Previously_Insured  Vehicle_Damage  Annual_Premium  \\\n",
              "3781                     1             0.0         39049.0   \n",
              "227054                   0             1.0         30250.0   \n",
              "186251                   0             1.0         28595.0   \n",
              "290780                   0             1.0         39147.0   \n",
              "151564                   1             0.0         27595.0   \n",
              "\n",
              "        Policy_Sales_Channel  Response  \n",
              "3781                    26.0         0  \n",
              "227054                 154.0         1  \n",
              "186251                 124.0         1  \n",
              "290780                 124.0         1  \n",
              "151564                  26.0         0  "
            ],
            "text/html": [
              "\n",
              "  <div id=\"df-534ada85-70f2-403c-8e93-32216fb59964\">\n",
              "    <div class=\"colab-df-container\">\n",
              "      <div>\n",
              "<style scoped>\n",
              "    .dataframe tbody tr th:only-of-type {\n",
              "        vertical-align: middle;\n",
              "    }\n",
              "\n",
              "    .dataframe tbody tr th {\n",
              "        vertical-align: top;\n",
              "    }\n",
              "\n",
              "    .dataframe thead th {\n",
              "        text-align: right;\n",
              "    }\n",
              "</style>\n",
              "<table border=\"1\" class=\"dataframe\">\n",
              "  <thead>\n",
              "    <tr style=\"text-align: right;\">\n",
              "      <th></th>\n",
              "      <th>&lt; 1 Year</th>\n",
              "      <th>&gt; 2 Years</th>\n",
              "      <th>Gender</th>\n",
              "      <th>Age</th>\n",
              "      <th>Driving_License</th>\n",
              "      <th>Region_Code</th>\n",
              "      <th>Previously_Insured</th>\n",
              "      <th>Vehicle_Damage</th>\n",
              "      <th>Annual_Premium</th>\n",
              "      <th>Policy_Sales_Channel</th>\n",
              "      <th>Response</th>\n",
              "    </tr>\n",
              "  </thead>\n",
              "  <tbody>\n",
              "    <tr>\n",
              "      <th>3781</th>\n",
              "      <td>0</td>\n",
              "      <td>0</td>\n",
              "      <td>1.0</td>\n",
              "      <td>46</td>\n",
              "      <td>1</td>\n",
              "      <td>28.0</td>\n",
              "      <td>1</td>\n",
              "      <td>0.0</td>\n",
              "      <td>39049.0</td>\n",
              "      <td>26.0</td>\n",
              "      <td>0</td>\n",
              "    </tr>\n",
              "    <tr>\n",
              "      <th>227054</th>\n",
              "      <td>0</td>\n",
              "      <td>0</td>\n",
              "      <td>1.0</td>\n",
              "      <td>23</td>\n",
              "      <td>1</td>\n",
              "      <td>28.0</td>\n",
              "      <td>0</td>\n",
              "      <td>1.0</td>\n",
              "      <td>30250.0</td>\n",
              "      <td>154.0</td>\n",
              "      <td>1</td>\n",
              "    </tr>\n",
              "    <tr>\n",
              "      <th>186251</th>\n",
              "      <td>0</td>\n",
              "      <td>0</td>\n",
              "      <td>1.0</td>\n",
              "      <td>34</td>\n",
              "      <td>1</td>\n",
              "      <td>11.0</td>\n",
              "      <td>0</td>\n",
              "      <td>1.0</td>\n",
              "      <td>28595.0</td>\n",
              "      <td>124.0</td>\n",
              "      <td>1</td>\n",
              "    </tr>\n",
              "    <tr>\n",
              "      <th>290780</th>\n",
              "      <td>0</td>\n",
              "      <td>0</td>\n",
              "      <td>1.0</td>\n",
              "      <td>41</td>\n",
              "      <td>1</td>\n",
              "      <td>34.0</td>\n",
              "      <td>0</td>\n",
              "      <td>1.0</td>\n",
              "      <td>39147.0</td>\n",
              "      <td>124.0</td>\n",
              "      <td>1</td>\n",
              "    </tr>\n",
              "    <tr>\n",
              "      <th>151564</th>\n",
              "      <td>0</td>\n",
              "      <td>0</td>\n",
              "      <td>1.0</td>\n",
              "      <td>54</td>\n",
              "      <td>1</td>\n",
              "      <td>41.0</td>\n",
              "      <td>1</td>\n",
              "      <td>0.0</td>\n",
              "      <td>27595.0</td>\n",
              "      <td>26.0</td>\n",
              "      <td>0</td>\n",
              "    </tr>\n",
              "  </tbody>\n",
              "</table>\n",
              "</div>\n",
              "      <button class=\"colab-df-convert\" onclick=\"convertToInteractive('df-534ada85-70f2-403c-8e93-32216fb59964')\"\n",
              "              title=\"Convert this dataframe to an interactive table.\"\n",
              "              style=\"display:none;\">\n",
              "        \n",
              "  <svg xmlns=\"http://www.w3.org/2000/svg\" height=\"24px\"viewBox=\"0 0 24 24\"\n",
              "       width=\"24px\">\n",
              "    <path d=\"M0 0h24v24H0V0z\" fill=\"none\"/>\n",
              "    <path d=\"M18.56 5.44l.94 2.06.94-2.06 2.06-.94-2.06-.94-.94-2.06-.94 2.06-2.06.94zm-11 1L8.5 8.5l.94-2.06 2.06-.94-2.06-.94L8.5 2.5l-.94 2.06-2.06.94zm10 10l.94 2.06.94-2.06 2.06-.94-2.06-.94-.94-2.06-.94 2.06-2.06.94z\"/><path d=\"M17.41 7.96l-1.37-1.37c-.4-.4-.92-.59-1.43-.59-.52 0-1.04.2-1.43.59L10.3 9.45l-7.72 7.72c-.78.78-.78 2.05 0 2.83L4 21.41c.39.39.9.59 1.41.59.51 0 1.02-.2 1.41-.59l7.78-7.78 2.81-2.81c.8-.78.8-2.07 0-2.86zM5.41 20L4 18.59l7.72-7.72 1.47 1.35L5.41 20z\"/>\n",
              "  </svg>\n",
              "      </button>\n",
              "      \n",
              "  <style>\n",
              "    .colab-df-container {\n",
              "      display:flex;\n",
              "      flex-wrap:wrap;\n",
              "      gap: 12px;\n",
              "    }\n",
              "\n",
              "    .colab-df-convert {\n",
              "      background-color: #E8F0FE;\n",
              "      border: none;\n",
              "      border-radius: 50%;\n",
              "      cursor: pointer;\n",
              "      display: none;\n",
              "      fill: #1967D2;\n",
              "      height: 32px;\n",
              "      padding: 0 0 0 0;\n",
              "      width: 32px;\n",
              "    }\n",
              "\n",
              "    .colab-df-convert:hover {\n",
              "      background-color: #E2EBFA;\n",
              "      box-shadow: 0px 1px 2px rgba(60, 64, 67, 0.3), 0px 1px 3px 1px rgba(60, 64, 67, 0.15);\n",
              "      fill: #174EA6;\n",
              "    }\n",
              "\n",
              "    [theme=dark] .colab-df-convert {\n",
              "      background-color: #3B4455;\n",
              "      fill: #D2E3FC;\n",
              "    }\n",
              "\n",
              "    [theme=dark] .colab-df-convert:hover {\n",
              "      background-color: #434B5C;\n",
              "      box-shadow: 0px 1px 3px 1px rgba(0, 0, 0, 0.15);\n",
              "      filter: drop-shadow(0px 1px 2px rgba(0, 0, 0, 0.3));\n",
              "      fill: #FFFFFF;\n",
              "    }\n",
              "  </style>\n",
              "\n",
              "      <script>\n",
              "        const buttonEl =\n",
              "          document.querySelector('#df-534ada85-70f2-403c-8e93-32216fb59964 button.colab-df-convert');\n",
              "        buttonEl.style.display =\n",
              "          google.colab.kernel.accessAllowed ? 'block' : 'none';\n",
              "\n",
              "        async function convertToInteractive(key) {\n",
              "          const element = document.querySelector('#df-534ada85-70f2-403c-8e93-32216fb59964');\n",
              "          const dataTable =\n",
              "            await google.colab.kernel.invokeFunction('convertToInteractive',\n",
              "                                                     [key], {});\n",
              "          if (!dataTable) return;\n",
              "\n",
              "          const docLinkHtml = 'Like what you see? Visit the ' +\n",
              "            '<a target=\"_blank\" href=https://colab.research.google.com/notebooks/data_table.ipynb>data table notebook</a>'\n",
              "            + ' to learn more about interactive tables.';\n",
              "          element.innerHTML = '';\n",
              "          dataTable['output_type'] = 'display_data';\n",
              "          await google.colab.output.renderOutput(dataTable, element);\n",
              "          const docLink = document.createElement('div');\n",
              "          docLink.innerHTML = docLinkHtml;\n",
              "          element.appendChild(docLink);\n",
              "        }\n",
              "      </script>\n",
              "    </div>\n",
              "  </div>\n",
              "  "
            ]
          },
          "metadata": {},
          "execution_count": 24
        }
      ]
    },
    {
      "metadata": {
        "_kg_hide-output": true,
        "_kg_hide-input": true,
        "trusted": true,
        "id": "S35BEpY8phk-"
      },
      "cell_type": "code",
      "source": [
        "#to get uniform output\n",
        "features = features.astype('float64')\n",
        "X_train = features.drop('Response',axis=1)\n",
        "y_train = features['Response']\n",
        "\n",
        "#creating dummies in test set\n",
        "dummy1 = pd.get_dummies(X_test['Vehicle_Age'],drop_first=True)\n",
        "X_test = pd.concat([dummy1,X_test],axis=1)\n",
        "X_test.drop('Vehicle_Age',axis=1,inplace=True)"
      ],
      "execution_count": 25,
      "outputs": []
    },
    {
      "metadata": {
        "id": "sNBiUWN2phk_"
      },
      "cell_type": "markdown",
      "source": [
        "# Régression Logistique"
      ]
    },
    {
      "metadata": {
        "trusted": true,
        "colab": {
          "base_uri": "https://localhost:8080/"
        },
        "id": "zldIdo4Ephk_",
        "outputId": "cbf10eb1-10d1-4bcf-c9ee-6943d2da40b8"
      },
      "cell_type": "code",
      "source": [
        "logisticRegression = LogisticRegression(max_iter = 10000)\n",
        "logisticRegression.fit(X_train, y_train)\n",
        "predictions = logisticRegression.predict(X_test)\n",
        "print(f\"Accuracy score is {100*accuracy_score(y_test,predictions).round(2)}\\nROC-AUC score is {100*roc_auc_score(y_test,predictions).round(2)}\")"
      ],
      "execution_count": 26,
      "outputs": [
        {
          "output_type": "stream",
          "name": "stdout",
          "text": [
            "Accuracy score is 64.0\n",
            "ROC-AUC score is 78.0\n"
          ]
        }
      ]
    },
    {
      "metadata": {
        "id": "eW8PSfZjphk_"
      },
      "cell_type": "markdown",
      "source": [
        "# Random Forest"
      ]
    },
    {
      "metadata": {
        "trusted": true,
        "colab": {
          "base_uri": "https://localhost:8080/"
        },
        "id": "5o6L1ao5phk_",
        "outputId": "b82f99c8-9484-4e12-b218-4aec2f6ff617"
      },
      "cell_type": "code",
      "source": [
        "from sklearn.ensemble import RandomForestClassifier\n",
        "rfc = RandomForestClassifier(n_estimators=100)\n",
        "rfc.fit(X_train, y_train)\n",
        "rfc_pred = rfc.predict(X_test)\n",
        "print(f\"Accuracy score is {100*accuracy_score(y_test,rfc_pred).round(2)}\\nROC-AUC score is {100*roc_auc_score(y_test,rfc_pred).round(2)}\")"
      ],
      "execution_count": 27,
      "outputs": [
        {
          "output_type": "stream",
          "name": "stdout",
          "text": [
            "Accuracy score is 83.0\n",
            "ROC-AUC score is 61.0\n"
          ]
        }
      ]
    },
    {
      "metadata": {
        "trusted": true,
        "colab": {
          "base_uri": "https://localhost:8080/"
        },
        "id": "u8bquszUphk_",
        "outputId": "c698ac8a-55ab-4c9b-f687-23bdf5442a27"
      },
      "cell_type": "code",
      "source": [
        "rfc_preds = rfc.predict_proba(X_test)\n",
        "print(\"AUC score after taking probabilities predictions and not classes predictions is\")\n",
        "roc_auc_score(y_test, rfc_preds[:,1], average = 'weighted')"
      ],
      "execution_count": 28,
      "outputs": [
        {
          "output_type": "stream",
          "name": "stdout",
          "text": [
            "AUC score after taking probabilities predictions and not classes predictions is\n"
          ]
        },
        {
          "output_type": "execute_result",
          "data": {
            "text/plain": [
              "0.8101574959319839"
            ]
          },
          "metadata": {},
          "execution_count": 28
        }
      ]
    },
    {
      "metadata": {
        "trusted": true,
        "colab": {
          "base_uri": "https://localhost:8080/"
        },
        "id": "fDXkOx_ephlA",
        "outputId": "0ca16989-6485-4e46-89a7-0c8d1281683c"
      },
      "cell_type": "code",
      "source": [
        "X_train.columns= ['less than 1 Year','greater than 2 Years', 'Gender', 'Age','Driving_License',\n",
        "                  'Region_Code', 'Previously_Insured', 'Vehicle_Damage', 'Annual_Premium','Policy_Sales_Channel']\n",
        "X_test.columns= ['less than 1 Year','greater than 2 Years', 'Gender', 'Age','Driving_License',\n",
        "                  'Region_Code', 'Previously_Insured', 'Vehicle_Damage', 'Annual_Premium','Policy_Sales_Channel']\n",
        "\n",
        "from xgboost import XGBClassifier\n",
        "xgb = XGBClassifier()\n",
        "xgb.fit(X_train, y_train)\n",
        "xgb_pred = xgb.predict(X_test)\n",
        "print(f\"Accuracy score is {100*accuracy_score(y_test,xgb_pred).round(2)}\\nROC-AUC score is {100*roc_auc_score(y_test,xgb_pred).round(2)}\")"
      ],
      "execution_count": 29,
      "outputs": [
        {
          "output_type": "stream",
          "name": "stdout",
          "text": [
            "Accuracy score is 69.0\n",
            "ROC-AUC score is 80.0\n"
          ]
        }
      ]
    },
    {
      "metadata": {
        "trusted": true,
        "colab": {
          "base_uri": "https://localhost:8080/"
        },
        "id": "Hr64wTE7phlA",
        "outputId": "a545af27-84ba-4192-ec1d-15dac2dabde7"
      },
      "cell_type": "code",
      "source": [
        "xgb_preds = xgb.predict_proba(X_test)\n",
        "roc_auc_score(y_test, xgb_preds[:,1], average = 'weighted')"
      ],
      "execution_count": 30,
      "outputs": [
        {
          "output_type": "execute_result",
          "data": {
            "text/plain": [
              "0.8558788968564014"
            ]
          },
          "metadata": {},
          "execution_count": 30
        }
      ]
    }
  ],
  "metadata": {
    "kernelspec": {
      "language": "python",
      "display_name": "Python 3",
      "name": "python3"
    },
    "language_info": {
      "pygments_lexer": "ipython3",
      "nbconvert_exporter": "python",
      "version": "3.6.4",
      "file_extension": ".py",
      "codemirror_mode": {
        "name": "ipython",
        "version": 3
      },
      "name": "python",
      "mimetype": "text/x-python"
    },
    "colab": {
      "name": "health-insurance-predictions.ipynb",
      "provenance": []
    }
  },
  "nbformat": 4,
  "nbformat_minor": 0
}